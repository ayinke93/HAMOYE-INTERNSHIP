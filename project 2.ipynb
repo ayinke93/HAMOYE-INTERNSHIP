{
 "cells": [
  {
   "cell_type": "code",
   "execution_count": 4,
   "metadata": {},
   "outputs": [
    {
     "name": "stdout",
     "output_type": "stream",
     "text": [
      "cashier :how may I help you? \n",
      "what do you want to eat? rice\n",
      "what do you want to drink? water\n",
      "what dessert will you like? cake\n",
      "what is your name please? yemisi\n",
      "yemisi:i would like to eat rice, and i would love to drink water and i would like to have cake\n",
      "cashier:thank you \n"
     ]
    }
   ],
   "source": [
    "def per_1(name):\n",
    "    print(name + \" :how may I help you? \")\n",
    "\n",
    "def per_2(food,drink,dessert,name):\n",
    "  food=input(\"what do you want to eat? \")\n",
    "  drink=input(\"what do you want to drink? \")\n",
    "  dessert=input(\"what dessert will you like? \" )\n",
    "  name=input(\"what is your name please? \" )\n",
    "  print(name+ \":i would like to eat \"+ food+\", and i would love to drink \" +drink +\" and i would like to have \"+ dessert)\n",
    "def per_1_2(name):\n",
    "    \n",
    "    print(name+ \":thank you \")\n",
    "\n",
    "per_1(\"cashier\")\n",
    "per_2(\"food\",\"drink\",\"dessert\",\"name\")\n",
    "per_1_2(\"cashier\")"
   ]
  },
  {
   "cell_type": "code",
   "execution_count": 9,
   "metadata": {},
   "outputs": [
    {
     "name": "stdout",
     "output_type": "stream",
     "text": [
      "6\n",
      "-4\n",
      "this is a calculation\n",
      "-4\n"
     ]
    }
   ],
   "source": [
    "def calculation(a,b,c):\n",
    " print(a+b+c)\n",
    " print(a-b-c)\n",
    " print(\"this is a calculation\")\n",
    " return print(a-b-c)\n",
    " print(\"what's up\")\n",
    "calculation(1,2,3)\n"
   ]
  },
  {
   "cell_type": "code",
   "execution_count": null,
   "metadata": {},
   "outputs": [],
   "source": []
  }
 ],
 "metadata": {
  "kernelspec": {
   "display_name": "Python 3",
   "language": "python",
   "name": "python3"
  },
  "language_info": {
   "codemirror_mode": {
    "name": "ipython",
    "version": 3
   },
   "file_extension": ".py",
   "mimetype": "text/x-python",
   "name": "python",
   "nbconvert_exporter": "python",
   "pygments_lexer": "ipython3",
   "version": "3.7.6"
  }
 },
 "nbformat": 4,
 "nbformat_minor": 4
}
